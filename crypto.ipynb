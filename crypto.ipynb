{
  "cells": [
    {
      "cell_type": "markdown",
      "metadata": {
        "id": "GijrSy0JxkSk"
      },
      "source": [
        "<center> <h1>Predicción del precio del Bitcoin</h1> \n",
        "<img src=\"https://www.unicaribe.mx/static/img/logo.png\">\n",
        "<h1> Rafael Lagunas Guitron</h1>\n",
        "<h2>150300810</h2>\n",
        "<h1> Ingeniería en Datos e Inteligencia Organizacional</h1>\n",
        "<h1> </h1>\n",
        "</center>"
      ]
    },
    {
      "cell_type": "markdown",
      "metadata": {
        "id": "F6mZLH4DBhHF"
      },
      "source": [
        "### Introduccion:\n",
        "\n",
        "En esta era moderna, es importante tener conocimiento de las criptomonedas, en  especial la $BITCOIN$, al ser la principal del mercado, hay que tomarse el tiempo de investigar e informarse sobre el tema, ya qué, es el mercado del futuro que ya nos está alcanzando, es por eso que, es importante contar con un estudio del mercado para poder predecir el precio, alcista o bajista, lo cual nos llevara a la realizacionn un modelo básico de red neuronal profunda para predecir el precio de Bitcoin en función de los datos históricos.\n"
      ]
    },
    {
      "cell_type": "markdown",
      "metadata": {
        "id": "TM9AQ_1hUORQ"
      },
      "source": [
        "# Prediccion de precio del bitcoin utilizando RNN Keras de Tensorflow"
      ]
    },
    {
      "cell_type": "markdown",
      "source": [
        "# RNN Red Neuronal Recurrente\n",
        "\n",
        "Red Neuronal Recurrente (RNN): [La estructura de una red neuronal artificial es relativamente simple y se refiere principalmente a la multiplicación de matrice. Durante el primer paso, las entradas se multiplican por pesos inicialmente aleatorios, y sesgo, transformados con una función de activación y los valores de salida se utilizan para hacer una predicción. Este paso da una idea de lo lejos que está la red de la realidad.\n",
        "\n",
        "Imaginemos la RNN más simple posible, compuesta por una sola neurona que recibe una entrada, produciendo una salida, y enviando esa salida a sí misma, como se muestra en la siguiente figura:\n",
        "\n",
        "![red](https://torres.ai/wp-content/uploads/2019/09/redes-neuronales-recurrentes-deep-learning-jordi-torres-1-300x97.png)\n",
        "\n",
        "En cada instante de tiempo (también llamado timestep en este contexto), esta neurona recurrente recibe la entrada x de la capa anterior, así como su propia salida del instante de tiempo anterior para generar su salida y. Podemos representar visualmente esta pequeña red desplegada en el eje del tiempo como se muestra en la figura:\n",
        "\n",
        "![redes](https://torres.ai/wp-content/uploads/2019/09/redes-neuronales-recurrentes-deep-learning-jordi-torres-2-768x329.png)\n",
        "\n",
        "Siguiendo esta misma idea, una capa de neuronas recurrentes se puede implementar de tal manera que, en cada instante de tiempo, cada neurona recibe dos entradas, la entrada correspondiente de la capa anterior y a su vez la salida del instante anterior de la misma capa.\n",
        "\n",
        "\n",
        "## Memory cell\n",
        "\n",
        "Dado que la salida de una neurona recurrente en un instante de tiempo determinado es una función de entradas de los instantes de tiempo anteriores, se podría decir que una neurona recurrente tiene en cierta forma memoria. La parte de una red neuronal que preserva un estado a través del tiempo se suele llamar memory cell(o simplemente cell).\n",
        "\n",
        "Y precisamente esta “memoria interna” es lo que hace de este tipo de redes muy adecuadas para problemas de aprendizaje automático que involucran datos secuenciales. Gracias a su memoria interna, las RNN pueden recordar información relevante sobre la entrada que recibieron, lo que les permite ser más precisas en la predicción de lo que vendrá después manteniendo información de contexto a diferencia de los otros tipos de redes que hemos visto, que no pueden recordar acerca de lo que ha sucedido en el pasado, excepto lo reflejado en su entrenamiento a través de sus pesos.\n",
        "\n",
        "\n",
        "# Long-Short Term Memory(LSTM) \n",
        "son una extensión de las redes neuronales recurrentes, que básicamente amplían su memoria para aprender de experiencias importantes que han pasado hace mucho tiempo.  Las LSTM permiten a las RNN recordar sus entradas durante un largo período de tiempo. Esto se debe a que LSTM contiene su información en la memoria, que puede considerarse similar a la memoria de un ordenador , en el sentido que una neurona de una LSTM puede leer, escribir y borrar información de su memoria.\n",
        "\n",
        "Esta memoria se puede ver como una “celda” bloqueada, donde “bloqueada” significa que la célula decide si almacenar o eliminar información dentro (abriendo la puerta o no para almacenar), en función de la importancia que asigna a la información que está recibiendo. La asignación de importancia se decide a través de los pesos, que también se aprenden mediante el algoritmo. Esto lo podemos ver como que aprende con el tiempo qué información es importante y cuál no.\n",
        "\n",
        "![lstmimage](https://blog.gft.com/es/wp-content/uploads/sites/3/2018/11/image2018-5-30_18-11-1.png)"
      ],
      "metadata": {
        "id": "32aY_HPZ-J2v"
      }
    },
    {
      "cell_type": "markdown",
      "metadata": {
        "id": "t8aSR8-vxDpH"
      },
      "source": [
        "# Parte 1, Recoleccion de datos\n",
        "\n",
        "Nuestro conjunto de datos proviene de Yahoo! Finance y cubre todos los datos disponibles el cual cargaremos como un dataframe de pandas."
      ]
    },
    {
      "cell_type": "code",
      "execution_count": null,
      "metadata": {
        "id": "tiS3jW5-xDpK"
      },
      "outputs": [],
      "source": [
        "import os\n",
        "import numpy as np\n",
        "import tensorflow as tf\n",
        "from tensorflow import keras\n",
        "import pandas as pd\n",
        "import seaborn as sns\n",
        "from pylab import rcParams\n",
        "import matplotlib.pyplot as plt\n",
        "from matplotlib import rc\n",
        "from sklearn.preprocessing import MinMaxScaler\n",
        "from tensorflow.keras.layers import Bidirectional, Dropout, Activation, Dense, LSTM\n",
        "from tensorflow.python.keras.layers import CuDNNLSTM\n",
        "from tensorflow.keras.models import Sequential\n",
        "from tensorflow.keras.layers import Bidirectional\n",
        "from sklearn.linear_model import LinearRegression\n",
        "from sklearn.model_selection import train_test_split\n",
        "from sklearn.metrics import mean_squared_error\n",
        "import datetime\n",
        "\n",
        "%matplotlib inline\n",
        "\n",
        "sns.set(style='whitegrid', palette='muted', font_scale=1.5)\n",
        "\n",
        "rcParams['figure.figsize'] = 14, 8\n",
        "\n",
        "RANDOM_SEED = 42\n",
        "\n",
        "np.random.seed(RANDOM_SEED)"
      ]
    },
    {
      "cell_type": "code",
      "execution_count": null,
      "metadata": {
        "id": "lrbPCF5_C16U"
      },
      "outputs": [],
      "source": [
        "csv_path = \"https://raw.githubusercontent.com/rafalagunas/BTC-USD/main/BTC-USD.csv\""
      ]
    },
    {
      "cell_type": "code",
      "execution_count": null,
      "metadata": {
        "id": "ks0xNm4nGI5-"
      },
      "outputs": [],
      "source": [
        "df = pd.read_csv(csv_path, parse_dates=['Date'])"
      ]
    },
    {
      "cell_type": "code",
      "execution_count": null,
      "metadata": {
        "id": "niJ0JfaeGK6i"
      },
      "outputs": [],
      "source": [
        "df = df.sort_values('Date')"
      ]
    },
    {
      "cell_type": "markdown",
      "metadata": {
        "id": "PKF_VuhxGUVM"
      },
      "source": [
        "Ordenamos los datos por fecha por si se encuentra un dato erroneo, a continuacion una muestra de como se observan los datos"
      ]
    },
    {
      "cell_type": "code",
      "execution_count": null,
      "metadata": {
        "colab": {
          "base_uri": "https://localhost:8080/",
          "height": 206
        },
        "id": "dfWuTwvXGNk2",
        "outputId": "7864a88e-27c3-42fa-f369-e58412ac5c61"
      },
      "outputs": [
        {
          "output_type": "execute_result",
          "data": {
            "text/plain": [
              "        Date        Open        High         Low       Close   Adj Close  \\\n",
              "0 2014-10-01  387.427002  391.378998  380.779999  383.614990  383.614990   \n",
              "1 2014-10-02  383.988007  385.497009  372.946014  375.071991  375.071991   \n",
              "2 2014-10-03  375.181000  377.695007  357.859009  359.511993  359.511993   \n",
              "3 2014-10-04  359.891998  364.487000  325.885986  328.865997  328.865997   \n",
              "4 2014-10-05  328.915985  341.800995  289.295990  320.510010  320.510010   \n",
              "\n",
              "     Volume  \n",
              "0  26229400  \n",
              "1  21777700  \n",
              "2  30901200  \n",
              "3  47236500  \n",
              "4  83308096  "
            ],
            "text/html": [
              "\n",
              "  <div id=\"df-5c7070e2-3436-44f2-99b3-610078ecd48d\">\n",
              "    <div class=\"colab-df-container\">\n",
              "      <div>\n",
              "<style scoped>\n",
              "    .dataframe tbody tr th:only-of-type {\n",
              "        vertical-align: middle;\n",
              "    }\n",
              "\n",
              "    .dataframe tbody tr th {\n",
              "        vertical-align: top;\n",
              "    }\n",
              "\n",
              "    .dataframe thead th {\n",
              "        text-align: right;\n",
              "    }\n",
              "</style>\n",
              "<table border=\"1\" class=\"dataframe\">\n",
              "  <thead>\n",
              "    <tr style=\"text-align: right;\">\n",
              "      <th></th>\n",
              "      <th>Date</th>\n",
              "      <th>Open</th>\n",
              "      <th>High</th>\n",
              "      <th>Low</th>\n",
              "      <th>Close</th>\n",
              "      <th>Adj Close</th>\n",
              "      <th>Volume</th>\n",
              "    </tr>\n",
              "  </thead>\n",
              "  <tbody>\n",
              "    <tr>\n",
              "      <th>0</th>\n",
              "      <td>2014-10-01</td>\n",
              "      <td>387.427002</td>\n",
              "      <td>391.378998</td>\n",
              "      <td>380.779999</td>\n",
              "      <td>383.614990</td>\n",
              "      <td>383.614990</td>\n",
              "      <td>26229400</td>\n",
              "    </tr>\n",
              "    <tr>\n",
              "      <th>1</th>\n",
              "      <td>2014-10-02</td>\n",
              "      <td>383.988007</td>\n",
              "      <td>385.497009</td>\n",
              "      <td>372.946014</td>\n",
              "      <td>375.071991</td>\n",
              "      <td>375.071991</td>\n",
              "      <td>21777700</td>\n",
              "    </tr>\n",
              "    <tr>\n",
              "      <th>2</th>\n",
              "      <td>2014-10-03</td>\n",
              "      <td>375.181000</td>\n",
              "      <td>377.695007</td>\n",
              "      <td>357.859009</td>\n",
              "      <td>359.511993</td>\n",
              "      <td>359.511993</td>\n",
              "      <td>30901200</td>\n",
              "    </tr>\n",
              "    <tr>\n",
              "      <th>3</th>\n",
              "      <td>2014-10-04</td>\n",
              "      <td>359.891998</td>\n",
              "      <td>364.487000</td>\n",
              "      <td>325.885986</td>\n",
              "      <td>328.865997</td>\n",
              "      <td>328.865997</td>\n",
              "      <td>47236500</td>\n",
              "    </tr>\n",
              "    <tr>\n",
              "      <th>4</th>\n",
              "      <td>2014-10-05</td>\n",
              "      <td>328.915985</td>\n",
              "      <td>341.800995</td>\n",
              "      <td>289.295990</td>\n",
              "      <td>320.510010</td>\n",
              "      <td>320.510010</td>\n",
              "      <td>83308096</td>\n",
              "    </tr>\n",
              "  </tbody>\n",
              "</table>\n",
              "</div>\n",
              "      <button class=\"colab-df-convert\" onclick=\"convertToInteractive('df-5c7070e2-3436-44f2-99b3-610078ecd48d')\"\n",
              "              title=\"Convert this dataframe to an interactive table.\"\n",
              "              style=\"display:none;\">\n",
              "        \n",
              "  <svg xmlns=\"http://www.w3.org/2000/svg\" height=\"24px\"viewBox=\"0 0 24 24\"\n",
              "       width=\"24px\">\n",
              "    <path d=\"M0 0h24v24H0V0z\" fill=\"none\"/>\n",
              "    <path d=\"M18.56 5.44l.94 2.06.94-2.06 2.06-.94-2.06-.94-.94-2.06-.94 2.06-2.06.94zm-11 1L8.5 8.5l.94-2.06 2.06-.94-2.06-.94L8.5 2.5l-.94 2.06-2.06.94zm10 10l.94 2.06.94-2.06 2.06-.94-2.06-.94-.94-2.06-.94 2.06-2.06.94z\"/><path d=\"M17.41 7.96l-1.37-1.37c-.4-.4-.92-.59-1.43-.59-.52 0-1.04.2-1.43.59L10.3 9.45l-7.72 7.72c-.78.78-.78 2.05 0 2.83L4 21.41c.39.39.9.59 1.41.59.51 0 1.02-.2 1.41-.59l7.78-7.78 2.81-2.81c.8-.78.8-2.07 0-2.86zM5.41 20L4 18.59l7.72-7.72 1.47 1.35L5.41 20z\"/>\n",
              "  </svg>\n",
              "      </button>\n",
              "      \n",
              "  <style>\n",
              "    .colab-df-container {\n",
              "      display:flex;\n",
              "      flex-wrap:wrap;\n",
              "      gap: 12px;\n",
              "    }\n",
              "\n",
              "    .colab-df-convert {\n",
              "      background-color: #E8F0FE;\n",
              "      border: none;\n",
              "      border-radius: 50%;\n",
              "      cursor: pointer;\n",
              "      display: none;\n",
              "      fill: #1967D2;\n",
              "      height: 32px;\n",
              "      padding: 0 0 0 0;\n",
              "      width: 32px;\n",
              "    }\n",
              "\n",
              "    .colab-df-convert:hover {\n",
              "      background-color: #E2EBFA;\n",
              "      box-shadow: 0px 1px 2px rgba(60, 64, 67, 0.3), 0px 1px 3px 1px rgba(60, 64, 67, 0.15);\n",
              "      fill: #174EA6;\n",
              "    }\n",
              "\n",
              "    [theme=dark] .colab-df-convert {\n",
              "      background-color: #3B4455;\n",
              "      fill: #D2E3FC;\n",
              "    }\n",
              "\n",
              "    [theme=dark] .colab-df-convert:hover {\n",
              "      background-color: #434B5C;\n",
              "      box-shadow: 0px 1px 3px 1px rgba(0, 0, 0, 0.15);\n",
              "      filter: drop-shadow(0px 1px 2px rgba(0, 0, 0, 0.3));\n",
              "      fill: #FFFFFF;\n",
              "    }\n",
              "  </style>\n",
              "\n",
              "      <script>\n",
              "        const buttonEl =\n",
              "          document.querySelector('#df-5c7070e2-3436-44f2-99b3-610078ecd48d button.colab-df-convert');\n",
              "        buttonEl.style.display =\n",
              "          google.colab.kernel.accessAllowed ? 'block' : 'none';\n",
              "\n",
              "        async function convertToInteractive(key) {\n",
              "          const element = document.querySelector('#df-5c7070e2-3436-44f2-99b3-610078ecd48d');\n",
              "          const dataTable =\n",
              "            await google.colab.kernel.invokeFunction('convertToInteractive',\n",
              "                                                     [key], {});\n",
              "          if (!dataTable) return;\n",
              "\n",
              "          const docLinkHtml = 'Like what you see? Visit the ' +\n",
              "            '<a target=\"_blank\" href=https://colab.research.google.com/notebooks/data_table.ipynb>data table notebook</a>'\n",
              "            + ' to learn more about interactive tables.';\n",
              "          element.innerHTML = '';\n",
              "          dataTable['output_type'] = 'display_data';\n",
              "          await google.colab.output.renderOutput(dataTable, element);\n",
              "          const docLink = document.createElement('div');\n",
              "          docLink.innerHTML = docLinkHtml;\n",
              "          element.appendChild(docLink);\n",
              "        }\n",
              "      </script>\n",
              "    </div>\n",
              "  </div>\n",
              "  "
            ]
          },
          "metadata": {},
          "execution_count": 5
        }
      ],
      "source": [
        "df.head()"
      ]
    },
    {
      "cell_type": "markdown",
      "metadata": {
        "id": "MygJjIkPGogj"
      },
      "source": [
        "Tenemos un total de 3201 puntos de datos que representan el precio de Bitcoin-USD durante 3201 días"
      ]
    },
    {
      "cell_type": "code",
      "execution_count": null,
      "metadata": {
        "colab": {
          "base_uri": "https://localhost:8080/"
        },
        "id": "worxvL0nGgOx",
        "outputId": "5d541dab-181f-45ed-a6bf-31324dbcc271"
      },
      "outputs": [
        {
          "output_type": "execute_result",
          "data": {
            "text/plain": [
              "(2775, 7)"
            ]
          },
          "metadata": {},
          "execution_count": 6
        }
      ],
      "source": [
        "df.shape"
      ]
    },
    {
      "cell_type": "code",
      "execution_count": null,
      "metadata": {
        "colab": {
          "base_uri": "https://localhost:8080/",
          "height": 315
        },
        "id": "BHBTaFIZGimk",
        "outputId": "3f50336d-2787-4df5-c73b-3d6685bd0bdc"
      },
      "outputs": [
        {
          "output_type": "execute_result",
          "data": {
            "text/plain": [
              "Text(0, 0.5, 'Close Price (USD)')"
            ]
          },
          "metadata": {},
          "execution_count": 7
        },
        {
          "output_type": "display_data",
          "data": {
            "text/plain": [
              "<Figure size 432x288 with 1 Axes>"
            ],
            "image/png": "[encoded data removed]"
          },
          "metadata": {
            "needs_background": "light"
          }
        }
      ],
      "source": [
        "ax = df.plot(x='Date', y='Close');\n",
        "ax.set_xlabel(\"Date\")\n",
        "ax.set_ylabel(\"Close Price (USD)\")"
      ]
    },
    {
      "cell_type": "markdown",
      "metadata": {
        "id": "17iYmuLwxDpL"
      },
      "source": [
        "# Parte 2, Normalizacion de datos"
      ]
    },
    {
      "cell_type": "markdown",
      "metadata": {
        "id": "w1q_by7lHbkr"
      },
      "source": [
        "A continuacion, vamos a escalar los datos dentro del rango [0,1], utilizaremos la funcion MinMaxScaler, la cual  Transforma las funciones escalando cada función a un rango determinado.\n",
        "\n",
        "Este estimador escala y traduce cada característica individualmente de modo que esté en el rango dado en el conjunto de entrenamiento, p. entre cero y uno.\n",
        "\n",
        "La transformación está dada por:\n",
        "\n",
        "X_std = (X - X.min(eje=0)) / (X.max(eje=0) - X.min(eje=0))\n",
        "\n",
        "\n",
        "X_scaled = X_std * (máx. - mín.) + mín.\n",
        "\n",
        "\n",
        "donde min, max = rango_de_características.\n",
        "\n",
        "Esta transformación se utiliza a menudo como una alternativa al escalado de varianza unitaria de media cero.\n",
        "\n",
        "\n",
        "\n",
        "El escalador espera que los datos tengan la forma de (x, y), por lo que agregamos una dimensión ficticia usando reshape antes de aplicarla.\n"
      ]
    },
    {
      "cell_type": "code",
      "execution_count": null,
      "metadata": {
        "id": "KVJnOWxWxDpM",
        "colab": {
          "base_uri": "https://localhost:8080/"
        },
        "outputId": "fee2a9b8-2815-45ae-f83a-4bada41c428b"
      },
      "outputs": [
        {
          "output_type": "stream",
          "name": "stdout",
          "text": [
            "[[  383.61499 ]\n",
            " [  375.071991]\n",
            " [  359.511993]\n",
            " ...\n",
            " [39698.371094]\n",
            " [36575.140625]\n",
            " [35982.382813]]\n"
          ]
        }
      ],
      "source": [
        "scaler = MinMaxScaler()\n",
        "\n",
        "close_price = df.Close.values.reshape(-1, 1)\n",
        "print(close_price)"
      ]
    },
    {
      "cell_type": "code",
      "source": [
        "scaled_close = scaler.fit_transform(close_price)"
      ],
      "metadata": {
        "id": "-XHCNg3DrmIa"
      },
      "execution_count": null,
      "outputs": []
    },
    {
      "cell_type": "code",
      "execution_count": null,
      "metadata": {
        "colab": {
          "base_uri": "https://localhost:8080/"
        },
        "id": "rMDJFquPxDpM",
        "outputId": "836e99fe-65d2-4084-a67a-bcdf9e11a693"
      },
      "outputs": [
        {
          "output_type": "execute_result",
          "data": {
            "text/plain": [
              "(2775, 1)"
            ]
          },
          "metadata": {},
          "execution_count": 10
        }
      ],
      "source": [
        "scaled_close.shape"
      ]
    },
    {
      "cell_type": "code",
      "execution_count": null,
      "metadata": {
        "colab": {
          "base_uri": "https://localhost:8080/"
        },
        "id": "tTuYn_LqxDpN",
        "outputId": "38fa3a91-de5f-42a5-ab88-b32599250fe9"
      },
      "outputs": [
        {
          "output_type": "execute_result",
          "data": {
            "text/plain": [
              "False"
            ]
          },
          "metadata": {},
          "execution_count": 11
        }
      ],
      "source": [
        "np.isnan(scaled_close).any()"
      ]
    },
    {
      "cell_type": "markdown",
      "metadata": {
        "id": "Wotoj6f0ISt5"
      },
      "source": [
        "Usamos isnan como máscara para filtrar los valores de NaN. Nuevamente remodelamos los datos después de eliminar los NaN."
      ]
    },
    {
      "cell_type": "code",
      "execution_count": null,
      "metadata": {
        "id": "y6yw89E9xDpN"
      },
      "outputs": [],
      "source": [
        "scaled_close = scaled_close[~np.isnan(scaled_close)]"
      ]
    },
    {
      "cell_type": "code",
      "execution_count": null,
      "metadata": {
        "id": "w0Qkvc-UxDpO"
      },
      "outputs": [],
      "source": [
        "scaled_close = scaled_close.reshape(-1, 1)"
      ]
    },
    {
      "cell_type": "code",
      "execution_count": null,
      "metadata": {
        "colab": {
          "base_uri": "https://localhost:8080/"
        },
        "id": "A0NComnJxDpO",
        "outputId": "e26aafe5-8b6a-480c-af0b-950fbf5d7fd0"
      },
      "outputs": [
        {
          "output_type": "execute_result",
          "data": {
            "text/plain": [
              "False"
            ]
          },
          "metadata": {},
          "execution_count": 14
        }
      ],
      "source": [
        "np.isnan(scaled_close).any()"
      ]
    },
    {
      "cell_type": "code",
      "source": [
        "scaled_close  #Escalado del precio de cierre"
      ],
      "metadata": {
        "colab": {
          "base_uri": "https://localhost:8080/"
        },
        "id": "eUS8_vu3p_rU",
        "outputId": "d8419507-9f23-42fa-bbb3-7231f689093e"
      },
      "execution_count": null,
      "outputs": [
        {
          "output_type": "execute_result",
          "data": {
            "text/plain": [
              "array([[0.00304965],\n",
              "       [0.00292288],\n",
              "       [0.00269198],\n",
              "       ...,\n",
              "       [0.58645223],\n",
              "       [0.54010575],\n",
              "       [0.53130965]])"
            ]
          },
          "metadata": {},
          "execution_count": 15
        }
      ]
    },
    {
      "cell_type": "markdown",
      "metadata": {
        "id": "r42gFWdoxDpP"
      },
      "source": [
        "# Part 3, Preprocesamiento"
      ]
    },
    {
      "cell_type": "markdown",
      "metadata": {
        "id": "Jqactb04Kbui"
      },
      "source": [
        "Para la realizacion del modelo de red neuronal, se necesita que los datos estén en 3 dimensiones,LSTM requiere una entrada como tensor 3D.\n",
        "\n",
        "\n",
        "Necesitamos dividir los datos en secuencias de una longitud preestablecida. La forma que queremos obtener es:\n",
        "[batch_size, sequence_length, n_features]\n",
        "\n",
        "También queremos guardar algunos datos para realizar pruebas.\n",
        "\n",
        "![lstm](https://miro.medium.com/max/1240/1*YnGyWhlkVc88XYOvvQ1QbA.png)\n",
        "### Batch Size\n",
        "El Batch Size es cuántas observaciones analizará el modelo al mismo tiempo.\n",
        "Dado que el tamaño del lote generalmente se proporciona en el momento del entrenamiento y es una variable.\n",
        "\n",
        "### sequence_length\n",
        "\n",
        "Longitud de secuencia es la longitud de la secuencia de datos de entrada (paso de tiempo: 0,1,2…N), la RNN aprende el patrón secuencial en el conjunto de datos.\n",
        "\n",
        "Suponga que tiene datos del mercado de acciones a diario (frecuencia = 1 día) y desea que la red aprenda la secuencia de 30 días de datos. Entonces, la longitud de su secuencia será 30.\n",
        "\n",
        "\n",
        "El proceso de construcción de secuencias funciona creando una secuencia de una longitud específica en la posición 0. Luego cambiamos una posición a la derecha (por ejemplo, 1) y creamos otra secuencia. El proceso se repite hasta que se utilizan todas las posiciones posibles.\n",
        "\n",
        "### N_ Features\n",
        "n_features determina cuántas columnas o características tendrán los conjuntos de datos generados. En el aprendizaje automático, las características corresponden a datos de características numéricas\n",
        "\n"
      ]
    },
    {
      "cell_type": "code",
      "execution_count": null,
      "metadata": {
        "id": "0yE5Ia-NxDpP"
      },
      "outputs": [],
      "source": [
        "SEQ_LEN = 100 ## Diaz de cambios en el precio de bitcoin\n",
        "\n",
        "def to_sequences(data, seq_len):\n",
        "    d = []\n",
        "\n",
        "    for index in range(len(data) - seq_len):\n",
        "        d.append(data[index: index + seq_len])\n",
        "\n",
        "    return np.array(d)\n",
        "\n",
        "def preprocess(data_raw, seq_len, train_split):\n",
        "\n",
        "    data = to_sequences(data_raw, seq_len)\n",
        "\n",
        "    num_train = int(train_split * data.shape[0]) # 5% del total de datos\n",
        "\n",
        "    X_train = data[:num_train, :-1, :]\n",
        "    y_train = data[:num_train, -1, :]\n",
        "\n",
        "    X_test = data[num_train:, :-1, :] # 5% del escalado del precio de cierre\n",
        "    y_test = data[num_train:, -1, :] \n",
        "\n",
        "    return X_train, y_train, X_test, y_test\n",
        "\n",
        "\n",
        "X_train, y_train, X_test, y_test = preprocess(scaled_close, SEQ_LEN, train_split = 0.95)\n",
        "# SEQ_LEN = 100\n",
        "# train_split = 0.95 ///// # 5% del total de datos\n",
        "# scaled_close  #Escalado del precio de cierre"
      ]
    },
    {
      "cell_type": "markdown",
      "source": [
        "## x_Train\n",
        "El conjunto de entrenamiento debe ser una selección aleatoria del 95% de los datos originales.\n",
        "## X_Test\n",
        "El conjunto de prueba debe ser el 5% restante."
      ],
      "metadata": {
        "id": "LNWeiQr16C2S"
      }
    },
    {
      "cell_type": "code",
      "execution_count": null,
      "metadata": {
        "colab": {
          "base_uri": "https://localhost:8080/"
        },
        "id": "OKn2OcVjKG6f",
        "outputId": "c43b0c7d-7c0e-4417-c181-f8514111342c"
      },
      "outputs": [
        {
          "output_type": "execute_result",
          "data": {
            "text/plain": [
              "(2541, 99, 1)"
            ]
          },
          "metadata": {},
          "execution_count": 17
        }
      ],
      "source": [
        "X_train.shape"
      ]
    },
    {
      "cell_type": "code",
      "execution_count": null,
      "metadata": {
        "colab": {
          "base_uri": "https://localhost:8080/"
        },
        "id": "HpHYyTExxDpP",
        "outputId": "f253fad0-8153-4c5d-8366-a19d6ac5967e"
      },
      "outputs": [
        {
          "output_type": "execute_result",
          "data": {
            "text/plain": [
              "(134, 99, 1)"
            ]
          },
          "metadata": {},
          "execution_count": 18
        }
      ],
      "source": [
        "X_test.shape"
      ]
    },
    {
      "cell_type": "code",
      "source": [
        "X_test"
      ],
      "metadata": {
        "colab": {
          "base_uri": "https://localhost:8080/"
        },
        "id": "SdqOE4hkj1mJ",
        "outputId": "a7693917-9417-40c0-d438-492e2751e034"
      },
      "execution_count": null,
      "outputs": [
        {
          "output_type": "execute_result",
          "data": {
            "text/plain": [
              "array([[[0.71225928],\n",
              "        [0.70642762],\n",
              "        [0.69877292],\n",
              "        ...,\n",
              "        [0.69302653],\n",
              "        [0.72354107],\n",
              "        [0.71896907]],\n",
              "\n",
              "       [[0.70642762],\n",
              "        [0.69877292],\n",
              "        [0.71377312],\n",
              "        ...,\n",
              "        [0.72354107],\n",
              "        [0.71896907],\n",
              "        [0.75096295]],\n",
              "\n",
              "       [[0.69877292],\n",
              "        [0.71377312],\n",
              "        [0.69866459],\n",
              "        ...,\n",
              "        [0.71896907],\n",
              "        [0.75096295],\n",
              "        [0.75152175]],\n",
              "\n",
              "       ...,\n",
              "\n",
              "       [[0.54128083],\n",
              "        [0.5457278 ],\n",
              "        [0.54421594],\n",
              "        ...,\n",
              "        [0.55701858],\n",
              "        [0.56821064],\n",
              "        [0.56910448]],\n",
              "\n",
              "       [[0.5457278 ],\n",
              "        [0.54421594],\n",
              "        [0.54846165],\n",
              "        ...,\n",
              "        [0.56821064],\n",
              "        [0.56910448],\n",
              "        [0.55754653]],\n",
              "\n",
              "       [[0.54421594],\n",
              "        [0.54846165],\n",
              "        [0.55804927],\n",
              "        ...,\n",
              "        [0.56910448],\n",
              "        [0.55754653],\n",
              "        [0.58645223]]])"
            ]
          },
          "metadata": {},
          "execution_count": 59
        }
      ]
    },
    {
      "cell_type": "markdown",
      "metadata": {
        "id": "tiHDAvWpKs-h"
      },
      "source": [
        "\n",
        "Guardamos el 5% de los datos para las pruebas. Los conjuntos de datos se ven así:\n",
        "\n",
        "### X_train\n",
        "(2541, 99, 1)\n",
        "\n",
        "### X_test\n",
        "(134, 99, 1)\n",
        "\n",
        "\n",
        "Nuestro modelo utilizará 2541 precios que representan 99 días de cambios en el precio de Bitcoin cada una para el entrenamiento. Vamos a predecir el precio para 134 días en el futuro."
      ]
    },
    {
      "cell_type": "markdown",
      "metadata": {
        "id": "XYmU0Yu-JM3B"
      },
      "source": [
        "# Parte 4, Modelado\n",
        "Para el Modelado de datos utilizaremos la libreria LSTM de keras.\n",
        "\n",
        "Según Palash Sharma(Febrero 1, 2021)\n",
        "Long Short-Term Memory Network o LSTM, es una variación de una red neuronal recurrente (RNN) que es bastante efectiva para predecir secuencias largas de datos como oraciones y precios de acciones durante un período de tiempo.\n",
        "\n",
        "LSTM con sus celdas de memoria es una versión mejorada de los RNN tradicionales que no pueden predecir utilizando una secuencia de datos tan larga y se encuentran con el problema del gradiente de fuga.\n",
        "\n",
        "\n",
        "![LST](https://machinelearningknowledge.ai/ezoimgfmt/953894.smushcdn.com/2611031/wp-content/uploads/2021/01/LSTM-282x300.png?lossy=0&strip=1&webp=1&ezimgfmt=ng:webp/ngcb1)\n",
        "\n",
        "\n",
        "Sharma, P. (2021, February). Machinelearningknowledge.ai. https://machinelearningknowledge.ai/keras-lstm-layer-explained-for-beginners-with-example/#:~:text=Long%20Short%2DTerm%20Memory%20Network,feedback%20loop%20in%20its%20architecture.\n",
        "\n",
        "\n",
        "\n",
        ".\n",
        "\n",
        "\n",
        "\n",
        "\n",
        "\n",
        "##Construcción del modelo LSTM\n",
        "Estamos creando una red neuronal recurrente LSTM de 3 capas.\n",
        "\n",
        "#### Definicion Sobreajuste:\n",
        "es decir, cuando el modelo se adapta demasiado bien a los datos disponibles, pero no demasiado bien a los datos que no ha visto (y eso es importante para las decisiones comerciales).\n",
        "‌"
      ]
    },
    {
      "cell_type": "markdown",
      "source": [
        "# Dropout\n",
        "El Dropout consiste en establecer aleatoriamente una tasa de fracción de unidades de entrada en 0 en cada actualización durante el tiempo de entrenamiento, lo que ayuda a evitar el sobreajuste.\n",
        "\n",
        "El término \"DROPOUT\" se utiliza para una técnica que elimina algunos nodos de la red. La DROPPING OUT puede verse como una desactivación o un desconocimiento temporal de las neuronas de la red. Esta técnica se aplica en la fase de entrenamiento para reducir los efectos de sobreajuste. El sobreajuste es un error que ocurre cuando una red se ajusta demasiado a un conjunto limitado de muestras de entrada.\n",
        "\n",
        "Flotante entre 0 y 1. Fracción de las unidades de entrada a eliminar.\n",
        "\n",
        " Usamos Dropout con una tasa del 20% para combatir el sobreajuste durante el entrenamiento:"
      ],
      "metadata": {
        "id": "ZXy3hYbinr4r"
      }
    },
    {
      "cell_type": "code",
      "execution_count": null,
      "metadata": {
        "id": "O2GW0tQqxDpQ"
      },
      "outputs": [],
      "source": [
        "DROPOUT = 0.2\n",
        "WINDOW_SIZE = SEQ_LEN - 1\n",
        "\n",
        "model = keras.Sequential()\n",
        "\n",
        "model.add(Bidirectional(LSTM(WINDOW_SIZE, return_sequences=True),\n",
        "                        input_shape=(WINDOW_SIZE, X_train.shape[-1])))\n",
        "model.add(Dropout(rate=DROPOUT))\n",
        "\n",
        "model.add(Bidirectional(LSTM((WINDOW_SIZE * 2), return_sequences=True)))\n",
        "model.add(Dropout(rate=DROPOUT))\n",
        "\n",
        "model.add(Bidirectional(LSTM(WINDOW_SIZE, return_sequences=False)))\n",
        "\n",
        "model.add(Dense(units=1))\n",
        "\n",
        "model.add(Activation('linear'))"
      ]
    },
    {
      "cell_type": "markdown",
      "metadata": {
        "id": "HPU9beR8L8bP"
      },
      "source": [
        "# Parte 5, entrenamiento\n",
        "Usaremos el Mean Squared Error como función de pérdida y el optimizador de Adam.\n",
        "\n",
        "El error cuadrático medio (MSE) te dice qué tan cerca está una línea de regresión de un conjunto de puntos. Lo hace tomando las distancias desde los puntos hasta la línea de regresión (estas distancias son los \"errores\") y elevándolas al cuadrado. La cuadratura es necesaria para eliminar cualquier signo negativo. También da más peso a las diferencias más grandes. Se llama el error cuadrático medio ya que estás encontrando el promedio de un conjunto de errores. Cuanto menor sea el MSE, mejor será el pronóstico.\n",
        "![MSE](https://cdn-media-1.freecodecamp.org/images/hmZydSW9YegiMVPWq2JBpOpai3CejzQpGkNG)"
      ]
    },
    {
      "cell_type": "code",
      "execution_count": null,
      "metadata": {
        "id": "Pr0Zk-HNLtuE"
      },
      "outputs": [],
      "source": [
        "model.compile(\n",
        "    loss='mean_squared_error', \n",
        "    optimizer='adam'\n",
        ")"
      ]
    },
    {
      "cell_type": "markdown",
      "source": [
        "Un epoch significa que el modelo analizará todos los datos una vez.\n",
        "El Batch Size es cuántas observaciones analizará el modelo al mismo tiempo.\n",
        "\n",
        "\n",
        "Estos valores deben ajustarse juntos y también de acuerdo con el hardware porque cuantas más epoch o menor batch size, más tiempo tardará el modelo en ser entrenado; además, un número muy elevado de epochs podría provocar un sobreajuste. Para este ejemplo, voy a usar 50 epoch y un tamaño de lote de 64 Toda la información se guardará en un objeto llamado \"History\"."
      ],
      "metadata": {
        "id": "MD-RrfyElNYD"
      }
    },
    {
      "cell_type": "code",
      "execution_count": null,
      "metadata": {
        "colab": {
          "base_uri": "https://localhost:8080/"
        },
        "id": "lvDFGQRFMH67",
        "outputId": "7d5f4db3-cced-4f48-a4cb-5adb04664ae7"
      },
      "outputs": [
        {
          "output_type": "stream",
          "name": "stdout",
          "text": [
            "Epoch 1/50\n",
            "36/36 [==============================] - 78s 2s/step - loss: 0.0048 - val_loss: 0.1943\n",
            "Epoch 2/50\n",
            "36/36 [==============================] - 60s 2s/step - loss: 0.0087 - val_loss: 0.2973\n",
            "Epoch 3/50\n",
            "36/36 [==============================] - 61s 2s/step - loss: 0.0190 - val_loss: 0.0234\n",
            "Epoch 4/50\n",
            "36/36 [==============================] - 61s 2s/step - loss: 0.0084 - val_loss: 0.3163\n",
            "Epoch 5/50\n",
            "36/36 [==============================] - 60s 2s/step - loss: 0.0753 - val_loss: 0.1835\n",
            "Epoch 6/50\n",
            "36/36 [==============================] - 60s 2s/step - loss: 0.0046 - val_loss: 0.0449\n",
            "Epoch 7/50\n",
            "36/36 [==============================] - 59s 2s/step - loss: 0.0140 - val_loss: 0.0338\n",
            "Epoch 8/50\n",
            "36/36 [==============================] - 60s 2s/step - loss: 0.0051 - val_loss: 0.0226\n",
            "Epoch 9/50\n",
            "36/36 [==============================] - 59s 2s/step - loss: 0.0012 - val_loss: 0.0355\n",
            "Epoch 10/50\n",
            "36/36 [==============================] - 59s 2s/step - loss: 0.0055 - val_loss: 0.0496\n",
            "Epoch 11/50\n",
            "36/36 [==============================] - 60s 2s/step - loss: 0.0018 - val_loss: 0.0569\n",
            "Epoch 12/50\n",
            "36/36 [==============================] - 59s 2s/step - loss: 0.0021 - val_loss: 0.0082\n",
            "Epoch 13/50\n",
            "36/36 [==============================] - 59s 2s/step - loss: 0.0020 - val_loss: 0.0649\n",
            "Epoch 14/50\n",
            "36/36 [==============================] - 60s 2s/step - loss: 0.0049 - val_loss: 0.0469\n",
            "Epoch 15/50\n",
            "36/36 [==============================] - 59s 2s/step - loss: 0.0011 - val_loss: 0.0298\n",
            "Epoch 16/50\n",
            "36/36 [==============================] - 59s 2s/step - loss: 5.6930e-04 - val_loss: 0.0134\n",
            "Epoch 17/50\n",
            "36/36 [==============================] - 59s 2s/step - loss: 5.0060e-04 - val_loss: 0.0254\n",
            "Epoch 18/50\n",
            "36/36 [==============================] - 60s 2s/step - loss: 6.4119e-04 - val_loss: 0.0078\n",
            "Epoch 19/50\n",
            "36/36 [==============================] - 59s 2s/step - loss: 5.9432e-04 - val_loss: 0.0274\n",
            "Epoch 20/50\n",
            "36/36 [==============================] - 59s 2s/step - loss: 0.0012 - val_loss: 0.0049\n",
            "Epoch 21/50\n",
            "36/36 [==============================] - 60s 2s/step - loss: 0.0010 - val_loss: 0.0327\n",
            "Epoch 22/50\n",
            "36/36 [==============================] - 59s 2s/step - loss: 0.0025 - val_loss: 0.0172\n",
            "Epoch 23/50\n",
            "36/36 [==============================] - 59s 2s/step - loss: 0.0011 - val_loss: 0.0317\n",
            "Epoch 24/50\n",
            "36/36 [==============================] - 60s 2s/step - loss: 0.0023 - val_loss: 0.0140\n",
            "Epoch 25/50\n",
            "36/36 [==============================] - 61s 2s/step - loss: 9.7803e-04 - val_loss: 0.0281\n",
            "Epoch 26/50\n",
            "36/36 [==============================] - 61s 2s/step - loss: 0.0019 - val_loss: 0.0100\n",
            "Epoch 27/50\n",
            "36/36 [==============================] - 60s 2s/step - loss: 9.0390e-04 - val_loss: 0.0260\n",
            "Epoch 28/50\n",
            "36/36 [==============================] - 59s 2s/step - loss: 0.0018 - val_loss: 0.0096\n",
            "Epoch 29/50\n",
            "36/36 [==============================] - 59s 2s/step - loss: 8.6623e-04 - val_loss: 0.0247\n",
            "Epoch 30/50\n",
            "36/36 [==============================] - 59s 2s/step - loss: 0.0015 - val_loss: 0.0080\n",
            "Epoch 31/50\n",
            "36/36 [==============================] - 59s 2s/step - loss: 8.2826e-04 - val_loss: 0.0229\n",
            "Epoch 32/50\n",
            "36/36 [==============================] - 59s 2s/step - loss: 0.0015 - val_loss: 0.0084\n",
            "Epoch 33/50\n",
            "36/36 [==============================] - 59s 2s/step - loss: 8.0189e-04 - val_loss: 0.0219\n",
            "Epoch 34/50\n",
            "36/36 [==============================] - 60s 2s/step - loss: 0.0013 - val_loss: 0.0071\n",
            "Epoch 35/50\n",
            "36/36 [==============================] - 60s 2s/step - loss: 7.9736e-04 - val_loss: 0.0202\n",
            "Epoch 36/50\n",
            "36/36 [==============================] - 60s 2s/step - loss: 0.0013 - val_loss: 0.0078\n",
            "Epoch 37/50\n",
            "36/36 [==============================] - 59s 2s/step - loss: 7.9129e-04 - val_loss: 0.0192\n",
            "Epoch 38/50\n",
            "36/36 [==============================] - 60s 2s/step - loss: 0.0012 - val_loss: 0.0070\n",
            "Epoch 39/50\n",
            "36/36 [==============================] - 59s 2s/step - loss: 7.5600e-04 - val_loss: 0.0184\n",
            "Epoch 40/50\n",
            "36/36 [==============================] - 59s 2s/step - loss: 0.0011 - val_loss: 0.0068\n",
            "Epoch 41/50\n",
            "36/36 [==============================] - 59s 2s/step - loss: 7.5989e-04 - val_loss: 0.0176\n",
            "Epoch 42/50\n",
            "36/36 [==============================] - 60s 2s/step - loss: 0.0011 - val_loss: 0.0065\n",
            "Epoch 43/50\n",
            "36/36 [==============================] - 60s 2s/step - loss: 7.9154e-04 - val_loss: 0.0175\n",
            "Epoch 44/50\n",
            "36/36 [==============================] - 60s 2s/step - loss: 0.0012 - val_loss: 0.0072\n",
            "Epoch 45/50\n",
            "36/36 [==============================] - 59s 2s/step - loss: 8.5359e-04 - val_loss: 0.0176\n",
            "Epoch 46/50\n",
            "36/36 [==============================] - 59s 2s/step - loss: 0.0012 - val_loss: 0.0082\n",
            "Epoch 47/50\n",
            "36/36 [==============================] - 60s 2s/step - loss: 8.3829e-04 - val_loss: 0.0166\n",
            "Epoch 48/50\n",
            "36/36 [==============================] - 60s 2s/step - loss: 0.0011 - val_loss: 0.0076\n",
            "Epoch 49/50\n",
            "36/36 [==============================] - 60s 2s/step - loss: 8.3969e-04 - val_loss: 0.0164\n",
            "Epoch 50/50\n",
            "36/36 [==============================] - 59s 2s/step - loss: 0.0011 - val_loss: 0.0075\n"
          ]
        }
      ],
      "source": [
        "BATCH_SIZE = 64\n",
        "\n",
        "history = model.fit(\n",
        "    X_train, \n",
        "    y_train, \n",
        "    epochs=50, \n",
        "    batch_size=BATCH_SIZE, \n",
        "    shuffle=False,\n",
        "    validation_split=0.1\n",
        ")"
      ]
    },
    {
      "cell_type": "code",
      "execution_count": null,
      "metadata": {
        "colab": {
          "base_uri": "https://localhost:8080/"
        },
        "id": "JJTpEsDOMpjz",
        "outputId": "94166592-cb3c-43e7-ac49-d14aea605df9"
      },
      "outputs": [
        {
          "output_type": "stream",
          "name": "stdout",
          "text": [
            "5/5 [==============================] - 1s 246ms/step - loss: 0.0011\n"
          ]
        },
        {
          "output_type": "execute_result",
          "data": {
            "text/plain": [
              "0.0011107254540547729"
            ]
          },
          "metadata": {},
          "execution_count": 22
        }
      ],
      "source": [
        "model.evaluate(X_test, y_test)"
      ]
    },
    {
      "cell_type": "markdown",
      "metadata": {
        "id": "IoWjjU_7Mj67"
      },
      "source": [
        "Después de un entrenamiento, tenemos la siguiente pérdida de entrenamiento:"
      ]
    },
    {
      "cell_type": "code",
      "execution_count": null,
      "metadata": {
        "colab": {
          "base_uri": "https://localhost:8080/",
          "height": 318
        },
        "id": "HKm3pLE-MJ4m",
        "outputId": "b4528e2f-fd77-46cd-c8df-6746f32141e9"
      },
      "outputs": [
        {
          "output_type": "display_data",
          "data": {
            "text/plain": [
              "<Figure size 432x288 with 1 Axes>"
            ],
            "image/png": "[encoded data removed]"
          },
          "metadata": {
            "needs_background": "light"
          }
        }
      ],
      "source": [
        "plt.plot(history.history['loss'])\n",
        "plt.plot(history.history['val_loss'])\n",
        "plt.title('model loss')\n",
        "plt.ylabel('loss')\n",
        "plt.xlabel('epoch')\n",
        "plt.legend(['train', 'test'], loc='upper left')\n",
        "plt.show()"
      ]
    },
    {
      "cell_type": "markdown",
      "metadata": {
        "id": "r4NAR--3R0Yl"
      },
      "source": [
        "# Parte 6, Prediccion\n",
        "Realizaremos la predicción del precio de Bitcoin, Utilizaremos escalador para invertir la transformación que hicimos para que los precios ya no estén escalados en el rango [0, 1]."
      ]
    },
    {
      "cell_type": "markdown",
      "source": [
        "La función predict () acepta solo un único argumento, que generalmente son los datos que se probarán.\n",
        "\n",
        "Devuelve las etiquetas de los datos pasados como argumento en función de los datos aprendidos o entrenados obtenidos del modelo.\n",
        "\n",
        "Por lo tanto, la función predict() funciona sobre el modelo entrenado y utiliza la etiqueta aprendida para mapear y predecir las etiquetas de los datos que se probarán."
      ],
      "metadata": {
        "id": "S8q3wtFOl3py"
      }
    },
    {
      "cell_type": "markdown",
      "source": [
        "Cómo recordamos, se guardo el 5% de los datos para las pruebas (X_test, Y_test). Los conjuntos de datos se ven así:\n",
        "\n",
        "Total (2541, 99, 1)\n",
        "\n",
        "\n",
        "Prueba (134, 99, 1)\n",
        "\n",
        "Nuestro modelo utilizará 2541 secuencias que representan 99 días de cambios en el precio de Bitcoin cada una para el entrenamiento. Vamos a predecir el precio para 134 días en el futuro.\n",
        "\n",
        "El 1 es una dimensión ficticia"
      ],
      "metadata": {
        "id": "0XrEu6eqr94k"
      }
    },
    {
      "cell_type": "code",
      "execution_count": null,
      "metadata": {
        "id": "In1AxCU3Rwui"
      },
      "outputs": [],
      "source": [
        "y_hat = model.predict(X_test)\n",
        "\n",
        "y_test_inverse = scaler.inverse_transform(y_test)\n",
        "y_hat_inverse = scaler.inverse_transform(y_hat)"
      ]
    },
    {
      "cell_type": "code",
      "execution_count": null,
      "metadata": {
        "colab": {
          "base_uri": "https://localhost:8080/",
          "height": 318
        },
        "id": "RuW2y9I2SFmq",
        "outputId": "2137aa2a-a50c-4418-a10a-12023b203834"
      },
      "outputs": [
        {
          "output_type": "display_data",
          "data": {
            "text/plain": [
              "<Figure size 432x288 with 1 Axes>"
            ],
            "image/png": "[encoded data removed]"
          },
          "metadata": {
            "needs_background": "light"
          }
        }
      ],
      "source": [
        "plt.plot(y_test_inverse, label=\"Precio actual\", color='green')\n",
        "plt.plot(y_hat_inverse, label=\"Prediccion del precio\", color='red')\n",
        " \n",
        "plt.title('Bitcoin price prediction')\n",
        "plt.xlabel('Time [days]')\n",
        "plt.ylabel('Price')\n",
        "plt.legend(loc='best')\n",
        " \n",
        "plt.show();"
      ]
    },
    {
      "cell_type": "markdown",
      "metadata": {
        "id": "W1nuvlfzSPww"
      },
      "source": [
        "# Conclusion\n",
        "Con la red neuronal recurrente LSTM bidireccional en TensorFlow 2, se puede observar una correcta prediccion al precio de bitcoin con respecto al precio actual del bitcoin, el modelo es bastante general y se puede usar para otros conjuntos de datos o moneda."
      ]
    },
    {
      "cell_type": "markdown",
      "source": [
        "."
      ],
      "metadata": {
        "id": "1OL1mHdweVy9"
      }
    },
    {
      "cell_type": "markdown",
      "source": [
        "."
      ],
      "metadata": {
        "id": "_aDUtCQoeVqa"
      }
    },
    {
      "cell_type": "markdown",
      "metadata": {
        "id": "t3jRBdK1Tudu"
      },
      "source": [
        "# Prediccion de precio del bitcoin utilizando Regresion lineal\n",
        "La regresión lineal permite predecir el comportamiento de una variable (dependiente o predicha) a partir de otra (independiente o predictora). Tiene presunciones como la linearidad de la relación, la normalidad, la aleatoridad de la muestra y homogeneidad de las varianzas."
      ]
    },
    {
      "cell_type": "markdown",
      "metadata": {
        "id": "mwmyJXyrVhKv"
      },
      "source": [
        "# Preprocesamiento\n",
        "Convertiremos los ID en un vector utilizando reshape para poder inicializar el modelo con estos valores"
      ]
    },
    {
      "cell_type": "code",
      "source": [
        "dates = df.index\n",
        "prices = df.Close.values.reshape(-1, 1)\n",
        "prices"
      ],
      "metadata": {
        "colab": {
          "base_uri": "https://localhost:8080/"
        },
        "id": "ugGLoH2OwM0H",
        "outputId": "12a37ec6-56ba-4807-ecab-707d0de98b61"
      },
      "execution_count": null,
      "outputs": [
        {
          "output_type": "execute_result",
          "data": {
            "text/plain": [
              "array([[  383.61499 ],\n",
              "       [  375.071991],\n",
              "       [  359.511993],\n",
              "       ...,\n",
              "       [39698.371094],\n",
              "       [36575.140625],\n",
              "       [35982.382813]])"
            ]
          },
          "metadata": {},
          "execution_count": 27
        }
      ]
    },
    {
      "cell_type": "code",
      "execution_count": null,
      "metadata": {
        "colab": {
          "base_uri": "https://localhost:8080/"
        },
        "id": "rR_MJV-3Uxv_",
        "outputId": "4fcf865f-dd61-47ff-b22c-a436e6fa471b"
      },
      "outputs": [
        {
          "output_type": "execute_result",
          "data": {
            "text/plain": [
              "array([[   0],\n",
              "       [   1],\n",
              "       [   2],\n",
              "       ...,\n",
              "       [2772],\n",
              "       [2773],\n",
              "       [2774]])"
            ]
          },
          "metadata": {},
          "execution_count": 28
        }
      ],
      "source": [
        "dates = np.reshape(dates, (len(dates),1))\n",
        "prices = np.reshape(prices, (len(prices),1))\n",
        "dates"
      ]
    },
    {
      "cell_type": "code",
      "source": [
        "prices"
      ],
      "metadata": {
        "colab": {
          "base_uri": "https://localhost:8080/"
        },
        "id": "JYO2M_a9ehnJ",
        "outputId": "09ede8ce-a171-43c7-9a7a-d935a86246b7"
      },
      "execution_count": null,
      "outputs": [
        {
          "output_type": "execute_result",
          "data": {
            "text/plain": [
              "array([[  383.61499 ],\n",
              "       [  375.071991],\n",
              "       [  359.511993],\n",
              "       ...,\n",
              "       [39698.371094],\n",
              "       [36575.140625],\n",
              "       [35982.382813]])"
            ]
          },
          "metadata": {},
          "execution_count": 29
        }
      ]
    },
    {
      "cell_type": "code",
      "execution_count": null,
      "metadata": {
        "id": "-2kY1hr0VzJ6"
      },
      "outputs": [],
      "source": [
        "regressor = LinearRegression()\n",
        "regressor.fit(dates, prices)\n",
        "predicted = regressor.predict(dates)\n",
        "score = regressor.score(dates, prices)"
      ]
    },
    {
      "cell_type": "markdown",
      "source": [
        "#   Visualizacion"
      ],
      "metadata": {
        "id": "oMeWZNjoYXaF"
      }
    },
    {
      "cell_type": "code",
      "execution_count": null,
      "metadata": {
        "colab": {
          "base_uri": "https://localhost:8080/",
          "height": 552
        },
        "id": "VdtpoKxOV28B",
        "outputId": "3d39bcd2-bdb8-4f3b-88b8-f47942990cbc"
      },
      "outputs": [
        {
          "output_type": "display_data",
          "data": {
            "text/plain": [
              "<Figure size 1080x576 with 1 Axes>"
            ],
            "image/png": "[encoded data removed]"
          },
          "metadata": {
            "needs_background": "light"
          }
        },
        {
          "output_type": "stream",
          "name": "stdout",
          "text": [
            "Puntuación de precisión para la regresión lineal estándar 0.608285762117528\n"
          ]
        }
      ],
      "source": [
        "plt.figure(figsize=(15,8)) \n",
        "plt.plot(dates, prices, color='blue', label='Acutal Price')\n",
        "plt.plot(dates, predicted, color='green', linewidth=3, label='Predicted Price')\n",
        "plt.title('Linear Regression | Time vs. Price')\n",
        "\n",
        "plt.xlabel('Date Integer')\n",
        "plt.ylabel('Price of BTC')\n",
        "plt.show()\n",
        "\n",
        "print('Puntuación de precisión para la regresión lineal estándar', score)"
      ]
    },
    {
      "cell_type": "markdown",
      "metadata": {
        "id": "gAp4MvqkWF7E"
      },
      "source": [
        "#Entrenamiento"
      ]
    },
    {
      "cell_type": "markdown",
      "source": [
        "Tenemos que pasar nuestras variables a 2 dimensiones"
      ],
      "metadata": {
        "id": "5Jwfhlc3qGPa"
      }
    },
    {
      "cell_type": "code",
      "source": [
        "xtrain=X_train.reshape(-1,1)\n",
        "ytrain=y_train.reshape(-1,1)\n",
        "xtest=X_test.reshape(-1,1)\n",
        "ytest=y_test.reshape(-1,1)\n",
        "ytest.shape"
      ],
      "metadata": {
        "colab": {
          "base_uri": "https://localhost:8080/"
        },
        "id": "rMT9J7iBrvsn",
        "outputId": "4ad9a821-1a4a-4f71-f6f6-f6b5f6dc4835"
      },
      "execution_count": null,
      "outputs": [
        {
          "output_type": "execute_result",
          "data": {
            "text/plain": [
              "(134, 1)"
            ]
          },
          "metadata": {},
          "execution_count": 32
        }
      ]
    },
    {
      "cell_type": "code",
      "source": [
        "regressor = LinearRegression()\n",
        "regressor.fit(xtrain, ytrain)"
      ],
      "metadata": {
        "colab": {
          "base_uri": "https://localhost:8080/"
        },
        "id": "fW_eLUYocWdu",
        "outputId": "47f9fecf-3928-4feb-8090-ce40f048669d"
      },
      "execution_count": null,
      "outputs": [
        {
          "output_type": "execute_result",
          "data": {
            "text/plain": [
              "LinearRegression()"
            ]
          },
          "metadata": {},
          "execution_count": 33
        }
      ]
    },
    {
      "cell_type": "markdown",
      "metadata": {
        "id": "IfhbJhdIYlr_"
      },
      "source": [
        "Nuestro modelo ya ha sido entrenado."
      ]
    },
    {
      "cell_type": "markdown",
      "metadata": {
        "id": "-xDdR-atZCsK"
      },
      "source": [
        "# **Gráfico** de conjunto de prueba"
      ]
    },
    {
      "cell_type": "markdown",
      "metadata": {
        "id": "hv99PnaTXmgm"
      },
      "source": [
        "Utilizaremos los mismos predictores de RNN \n",
        "\n",
        "Cómo recordamos, se guardo el 5% de los datos para las pruebas (X_test, Y_test). Los conjuntos de datos se ven así:\n",
        "\n",
        "Total (2541, 99, 1)\n",
        "\n",
        "\n",
        "Prueba (134, 99, 1)\n",
        "\n",
        "Nuestro modelo utilizará 2541 secuencias que representan 99 días de cambios en el precio de Bitcoin cada una para el entrenamiento. Vamos a predecir el precio para 134 días en el futuro.\n",
        "\n",
        "El 1 es una dimensión ficticia"
      ]
    },
    {
      "cell_type": "code",
      "source": [
        "y_hat = model.predict(xtest)\n",
        "\n",
        "y_test_inverse = scaler.inverse_transform(y_test)\n",
        "y_hat_inverse = scaler.inverse_transform(y_hat)"
      ],
      "metadata": {
        "colab": {
          "base_uri": "https://localhost:8080/"
        },
        "id": "CHE_dDeqEuky",
        "outputId": "8dbc094b-b92b-4401-d6e8-89a9d0882bb4"
      },
      "execution_count": null,
      "outputs": [
        {
          "output_type": "stream",
          "name": "stdout",
          "text": [
            "WARNING:tensorflow:Model was constructed with shape (None, 99, 1) for input KerasTensor(type_spec=TensorSpec(shape=(None, 99, 1), dtype=tf.float32, name='bidirectional_3_input'), name='bidirectional_3_input', description=\"created by layer 'bidirectional_3_input'\"), but it was called on an input with incompatible shape (None, 1, 1).\n"
          ]
        }
      ]
    },
    {
      "cell_type": "code",
      "source": [
        "plt.scatter(xtest, ytest, color='blue', label= 'Actual Price') #Con las variables de test\n",
        "plt.plot(xtest, regressor.predict(xtest), color='green', linewidth=3, label = 'Predicted Price') #Mismo predictor XTEST\n",
        "plt.title('Linear Regression | Time vs. Price  TEST SET')\n",
        "plt.legend()\n",
        "plt.xlabel('Date Integer')\n",
        "plt.show()\n",
        "print('Accuracy score for test set', regressor.score(xtest, ytest))"
      ],
      "metadata": {
        "colab": {
          "base_uri": "https://localhost:8080/",
          "height": 335
        },
        "id": "Mq_45ra5nyzv",
        "outputId": "378433a1-634e-4af9-c54e-d601b17428cb"
      },
      "execution_count": null,
      "outputs": [
        {
          "output_type": "display_data",
          "data": {
            "text/plain": [
              "<Figure size 432x288 with 1 Axes>"
            ],
            "image/png": "[encoded data removed]"
          },
          "metadata": {
            "needs_background": "light"
          }
        },
        {
          "output_type": "stream",
          "name": "stdout",
          "text": [
            "Accuracy score for test set 0.6074854172204167\n"
          ]
        }
      ]
    },
    {
      "cell_type": "markdown",
      "metadata": {
        "id": "vWJtogXhZSk_"
      },
      "source": [
        "# Predicción para un año a partir de ahora\n",
        "Crearemos una variable llamada prediccion, utilizaremos la funcion predict para añadirle un año a la prediccion y veremos cuano será el precio del bitcoin."
      ]
    },
    {
      "cell_type": "code",
      "execution_count": null,
      "metadata": {
        "colab": {
          "base_uri": "https://localhost:8080/"
        },
        "id": "D9vpmt5gZM-f",
        "outputId": "df02f9ec-12bb-4ec6-e0a9-5abd2f303794"
      },
      "outputs": [
        {
          "output_type": "stream",
          "name": "stdout",
          "text": [
            "Según el modelo de regresión lineal, el precio de BTC será 25739 en un año.\n"
          ]
        }
      ],
      "source": [
        "prediccion = regressor.predict([[1863+365]])\n",
        "print('Según el modelo de regresión lineal, el precio de BTC será', int(prediccion[0][0]), \"en un año.\")"
      ]
    },
    {
      "cell_type": "markdown",
      "metadata": {
        "id": "hHxnGGBlZx6t"
      },
      "source": [
        "# Conclusiones\n",
        "Tuvimos éxito en gran medida en la predicción de los precios de Bitcoin. Pero, en general, esto no funcionará bien en el mundo real, el modelo de regresion linea obtuvo una buena Puntuación de precisión para el conjunto de prueba lo cual nos permitio desarrollar una prediccion del precio dentro de un año"
      ]
    },
    {
      "cell_type": "code",
      "source": [
        "test=regressor.predict(xtest)\n",
        "def MSE(y, t):\n",
        "    return 0.5 * np.sum((y - t)**2)\n",
        "\n",
        "mse(ytest, test)"
      ],
      "metadata": {
        "colab": {
          "base_uri": "https://localhost:8080/"
        },
        "id": "sGicAvaaD7Xh",
        "outputId": "2a72a934-de50-4564-8175-c492ecc92e98"
      },
      "execution_count": null,
      "outputs": [
        {
          "output_type": "execute_result",
          "data": {
            "text/plain": [
              "array([[-10127.65793212],\n",
              "       [-10127.75184251],\n",
              "       [-10127.8751101 ],\n",
              "       ...,\n",
              "       [-10129.9632307 ],\n",
              "       [-10130.14935445],\n",
              "       [-10129.68387052]])"
            ]
          },
          "metadata": {},
          "execution_count": 72
        }
      ]
    },
    {
      "cell_type": "markdown",
      "metadata": {
        "id": "fcb61B1rbcvt"
      },
      "source": [
        "# Regresion de vector\n",
        "Support Vector Regression es un algoritmo de aprendizaje supervisado que se utiliza para predecir valores discretos. Support Vector Regression utiliza el mismo principio que las SVM. La idea básica detrás de SVR es encontrar la mejor línea de ajuste.\n",
        "\n",
        "SVR requiere los datos de entrenamiento: {X, Y} que cubre el dominio de interés y está acompañado por soluciones en ese dominio"
      ]
    },
    {
      "cell_type": "code",
      "execution_count": null,
      "metadata": {
        "id": "TtNsEzEZZwyM"
      },
      "outputs": [],
      "source": [
        "from sklearn.svm import SVR\n",
        "svr_lin = SVR(kernel = 'linear', C=1e3)"
      ]
    },
    {
      "cell_type": "markdown",
      "metadata": {
        "id": "qLrzB9kWc5ka"
      },
      "source": [
        "Utilizamos el método de ajuste de scikit-learn para entrenar nuestro modelo en nuestros datos de entrenamiento."
      ]
    },
    {
      "cell_type": "code",
      "execution_count": null,
      "metadata": {
        "colab": {
          "base_uri": "https://localhost:8080/"
        },
        "id": "pRW3xkY-bg-2",
        "outputId": "e8945bc2-6085-422a-ecc9-24f6d5e1cf51"
      },
      "outputs": [
        {
          "output_type": "stream",
          "name": "stderr",
          "text": [
            "/usr/local/lib/python3.7/dist-packages/sklearn/utils/validation.py:993: DataConversionWarning: A column-vector y was passed when a 1d array was expected. Please change the shape of y to (n_samples, ), for example using ravel().\n",
            "  y = column_or_1d(y, warn=True)\n"
          ]
        },
        {
          "output_type": "execute_result",
          "data": {
            "text/plain": [
              "SVR(C=1000.0, kernel='linear')"
            ]
          },
          "metadata": {},
          "execution_count": 42
        }
      ],
      "source": [
        "svr_lin.fit(xtrain,ytrain)"
      ]
    },
    {
      "cell_type": "markdown",
      "metadata": {
        "id": "l1MVFPg9dAdN"
      },
      "source": [
        "## Graficamos los resultados\n"
      ]
    },
    {
      "cell_type": "code",
      "execution_count": null,
      "metadata": {
        "colab": {
          "base_uri": "https://localhost:8080/",
          "height": 535
        },
        "id": "51L4UGfIdDJL",
        "outputId": "7822cc3a-9d0c-48e0-c21f-c99d89b9a718"
      },
      "outputs": [
        {
          "output_type": "display_data",
          "data": {
            "text/plain": [
              "<Figure size 1080x576 with 1 Axes>"
            ],
            "image/png": "[encoded data removed]"
          },
          "metadata": {
            "needs_background": "light"
          }
        }
      ],
      "source": [
        "plt.figure(figsize=(15,8))\n",
        "plt.plot(dates, prices, color='blue', label='Acutal Price')\n",
        "plt.plot(dates, svr_lin.predict(xtest), color='green', linewidth=3, label='Linear SVR') ##Mismo predictor\n",
        "plt.xlabel('Date')\n",
        "plt.ylabel('Price')\n",
        "plt.title('Linear SVR Regression')\n",
        "plt.show()"
      ]
    },
    {
      "cell_type": "markdown",
      "metadata": {
        "id": "bzFr0P0xdJcK"
      },
      "source": [
        "Realizaremos la prediccion de un año a partir de ahora para comparar con la regresion lineal"
      ]
    },
    {
      "cell_type": "code",
      "execution_count": null,
      "metadata": {
        "colab": {
          "base_uri": "https://localhost:8080/"
        },
        "id": "oWBSLsc5dDrZ",
        "outputId": "6377981a-5510-43b8-9984-b5b7d2e50d77"
      },
      "outputs": [
        {
          "output_type": "stream",
          "name": "stdout",
          "text": [
            "Puntuación de precisión para el modelo SVR lineal 0.346484273159001\n",
            "De acuerdo con el modelo de regresión de vector de soporte lineal, el precio de BTC será 55060 en un año\n"
          ]
        }
      ],
      "source": [
        "score = svr_lin.score(dates, prices)\n",
        "year_from_now = svr_lin.predict([[1863+365]])\n",
        "print(\"Puntuación de precisión para el modelo SVR lineal\", score)\n",
        "print('De acuerdo con el modelo de regresión de vector de soporte lineal, el precio de BTC será', int(year_from_now), \"en un año\")"
      ]
    },
    {
      "cell_type": "markdown",
      "metadata": {
        "id": "zmJ_2aPReNZe"
      },
      "source": [
        "# Conclusion\n",
        "El modelo de regresion de vector muestra una diferencia respecto al modelo de regresion lineal, siendo el lineal alcista y el vectorial bajista, de igual forma, el modelo vectorial tiene una puntuacion de presicion baja.\n",
        "\n",
        "Para el mundo real, utilizariamos el modelo de red neuronal LSTM de Keras de Tensorflow, ya que, tiene más similitud con la prediccion y los datos actuales, para observar al futuro los precios."
      ]
    },
    {
      "cell_type": "markdown",
      "source": [
        "# Error cuadratico medio para validar todos los datos\n"
      ],
      "metadata": {
        "id": "3m73v2JBtaI8"
      }
    },
    {
      "cell_type": "code",
      "source": [
        ""
      ],
      "metadata": {
        "id": "QWEMvW_OA9EK"
      },
      "execution_count": null,
      "outputs": []
    }
  ],
  "metadata": {
    "colab": {
      "collapsed_sections": [],
      "name": "crypto_final (1).ipynb",
      "provenance": []
    },
    "kernelspec": {
      "display_name": "Python 3",
      "name": "python3"
    },
    "language_info": {
      "name": "python"
    }
  },
  "nbformat": 4,
  "nbformat_minor": 0
}